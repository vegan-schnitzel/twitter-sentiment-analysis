{
 "cells": [
  {
   "cell_type": "code",
   "execution_count": 13,
   "source": [
    "# natural language processing\r\n",
    "import spacy\r\n",
    "\r\n",
    "# load spacy's english language model \r\n",
    "nlp = spacy.load('en_core_web_sm')\r\n",
    "\r\n",
    "# testing...\r\n",
    "test_tweet = \"Hello, FUCKING world! What the fuck! I am fucked...\"\r\n",
    "sample_tweet = \"IM SO FUCKING PISSED!!! I HATE YOU TRUMP, I WANTED TO START WW3\"\r\n",
    "\r\n",
    "tokens = nlp(test_tweet)\r\n",
    "\r\n",
    "for word in tokens:\r\n",
    "    print(word.lemma_)"
   ],
   "outputs": [
    {
     "output_type": "stream",
     "name": "stdout",
     "text": [
      "hello\n",
      ",\n",
      "fucking\n",
      "world\n",
      "!\n",
      "what\n",
      "the\n",
      "fuck\n",
      "!\n",
      "-PRON-\n",
      "be\n",
      "fuck\n",
      "...\n"
     ]
    }
   ],
   "metadata": {}
  },
  {
   "cell_type": "code",
   "execution_count": 7,
   "source": [
    "!python -m spacy info"
   ],
   "outputs": [
    {
     "output_type": "stream",
     "name": "stdout",
     "text": [
      "\u001b[1m\n",
      "============================== Info about spaCy ==============================\u001b[0m\n",
      "\n",
      "spaCy version    2.3.5                         \n",
      "Location         C:\\Users\\hotte\\miniconda3\\envs\\machinelearning\\lib\\site-packages\\spacy\n",
      "Platform         Windows-10-10.0.19041-SP0     \n",
      "Python version   3.7.10                        \n",
      "Models                                         \n",
      "\n"
     ]
    }
   ],
   "metadata": {}
  },
  {
   "cell_type": "code",
   "execution_count": 11,
   "source": [
    "!python -m spacy validate"
   ],
   "outputs": [
    {
     "output_type": "stream",
     "name": "stdout",
     "text": [
      "\n",
      "⠙ Loading compatibility table...\n",
      "⠹ Loading compatibility table...\n",
      "⠸ Loading compatibility table...\n",
      "⠼ Loading compatibility table...\n",
      "⠴ Loading compatibility table...\n",
      "\u001b[2K✔ Loaded compatibility table\n",
      "\u001b[1m\n",
      "====================== Installed models (spaCy v2.3.5) ======================\u001b[0m\n",
      "ℹ spaCy installation:\n",
      "C:\\Users\\hotte\\miniconda3\\envs\\machinelearning\\lib\\site-packages\\spacy\n",
      "\n",
      "TYPE      NAME             MODEL            VERSION    \n",
      "package   en-core-web-sm   en_core_web_sm   2.3.1     ✔\n",
      "\n"
     ]
    }
   ],
   "metadata": {}
  },
  {
   "cell_type": "markdown",
   "source": [
    "I'm running v2 of spaCy, which still provides lemmas as part of the trained model by default, see: [https://spacy.io/usage/linguistic-features#lemmatization]()"
   ],
   "metadata": {}
  }
 ],
 "metadata": {
  "orig_nbformat": 4,
  "language_info": {
   "name": "python",
   "version": "3.7.10",
   "mimetype": "text/x-python",
   "codemirror_mode": {
    "name": "ipython",
    "version": 3
   },
   "pygments_lexer": "ipython3",
   "nbconvert_exporter": "python",
   "file_extension": ".py"
  },
  "kernelspec": {
   "name": "python3",
   "display_name": "Python 3.7.10 64-bit ('machinelearning': conda)"
  },
  "interpreter": {
   "hash": "39461eb1ccb5b97dce938e2e23dbf7233ea65aeea4aeb9a31811f79a807c05f2"
  }
 },
 "nbformat": 4,
 "nbformat_minor": 2
}